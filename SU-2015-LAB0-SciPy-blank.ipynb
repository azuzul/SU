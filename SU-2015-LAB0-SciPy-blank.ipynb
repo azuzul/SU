{
 "cells": [
  {
   "cell_type": "markdown",
   "metadata": {},
   "source": [
    "Sveučilište u Zagrebu<br>\n",
    "Fakultet elektrotehnike i računarstva\n",
    "\n",
    "#Strojno učenje\n",
    "\n",
    "<a href=\"http://www.fer.unizg.hr/predmet/su\">http://www.fer.unizg.hr/predmet/su</a>\n",
    "\n",
    "Ak. god. 2015./2016.\n",
    "\n",
    "#Laboratorijska vježba 0: Uvod u SciPy\n",
    "\n",
    "(c) 2015 Domagoj Alagić\n",
    "\n",
    "<i>Verzija: 0.2</i>"
   ]
  },
  {
   "cell_type": "code",
   "execution_count": 1,
   "metadata": {
    "collapsed": false
   },
   "outputs": [
    {
     "name": "stdout",
     "output_type": "stream",
     "text": [
      "Populating the interactive namespace from numpy and matplotlib\n"
     ]
    }
   ],
   "source": [
    "import numpy as np\n",
    "import scipy as sp\n",
    "from scipy import stats\n",
    "import matplotlib.pyplot as plt\n",
    "%pylab inline"
   ]
  },
  {
   "cell_type": "markdown",
   "metadata": {},
   "source": [
    "## 1."
   ]
  },
  {
   "cell_type": "markdown",
   "metadata": {},
   "source": [
    "__(a)__ Kreirajte dvije liste: $a = [2, 4, 5, 6, 8, 13]$ i $b = [1, 3, 10, 13, 15]$."
   ]
  },
  {
   "cell_type": "code",
   "execution_count": 2,
   "metadata": {
    "collapsed": false
   },
   "outputs": [
    {
     "data": {
      "text/plain": [
       "[10]"
      ]
     },
     "execution_count": 2,
     "metadata": {},
     "output_type": "execute_result"
    }
   ],
   "source": [
    "a = np.array([2,4,5,6,8,13])\n",
    "b = np.array([1,3,10,13,15])\n",
    "[ x for x in b if x%2==0]"
   ]
  },
  {
   "cell_type": "markdown",
   "metadata": {},
   "source": [
    "__(b)__ Napišite kôd koji konkatenira liste $a$ i $b$ u listu $c$:"
   ]
  },
  {
   "cell_type": "code",
   "execution_count": 3,
   "metadata": {
    "collapsed": false
   },
   "outputs": [
    {
     "data": {
      "text/plain": [
       "array([ 2,  4,  5,  6,  8, 13,  1,  3, 10, 13, 15])"
      ]
     },
     "execution_count": 3,
     "metadata": {},
     "output_type": "execute_result"
    }
   ],
   "source": [
    "c=np.concatenate((a,b),axis=1)\n",
    "c"
   ]
  },
  {
   "cell_type": "markdown",
   "metadata": {},
   "source": [
    "__(c)__ Sortirajte listu $c$:"
   ]
  },
  {
   "cell_type": "code",
   "execution_count": 4,
   "metadata": {
    "collapsed": false
   },
   "outputs": [
    {
     "data": {
      "text/plain": [
       "array([ 1,  2,  3,  4,  5,  6,  8, 10, 13, 13, 15])"
      ]
     },
     "execution_count": 4,
     "metadata": {},
     "output_type": "execute_result"
    }
   ],
   "source": [
    "c.sort();c"
   ]
  },
  {
   "cell_type": "markdown",
   "metadata": {},
   "source": [
    "__(d)__ Izbacite duplikate iz liste c:"
   ]
  },
  {
   "cell_type": "code",
   "execution_count": 5,
   "metadata": {
    "collapsed": false
   },
   "outputs": [
    {
     "data": {
      "text/plain": [
       "array([ 1,  2,  3,  4,  5,  6,  8, 10, 13, 15])"
      ]
     },
     "execution_count": 5,
     "metadata": {},
     "output_type": "execute_result"
    }
   ],
   "source": [
    "c=np.unique(c)\n",
    "c"
   ]
  },
  {
   "cell_type": "markdown",
   "metadata": {},
   "source": [
    "__(e)__ Dohvatite i ispišite (pazite na indeksiranje od 0):\n",
    "* treći element,\n",
    "* zadnja dva elementa,\n",
    "* sve elemente između trećeg i šestog (uključujući treći element, isključujući šesti)."
   ]
  },
  {
   "cell_type": "code",
   "execution_count": 6,
   "metadata": {
    "collapsed": false
   },
   "outputs": [
    {
     "name": "stdout",
     "output_type": "stream",
     "text": [
      "3 [13 15] [3 4 5]\n"
     ]
    }
   ],
   "source": [
    "print(c[2],c[-2:],c[2:5])"
   ]
  },
  {
   "cell_type": "markdown",
   "metadata": {},
   "source": [
    "__(f)__ Generirajte interval brojeva `ran` s elementima iz $[2, 20]$."
   ]
  },
  {
   "cell_type": "code",
   "execution_count": 7,
   "metadata": {
    "collapsed": false
   },
   "outputs": [],
   "source": [
    "ran=range(2,21)"
   ]
  },
  {
   "cell_type": "markdown",
   "metadata": {},
   "source": [
    "__(g)__ Ispišite sve generirane brojeve iz intervala skupa s njihovim indeksima u listi:"
   ]
  },
  {
   "cell_type": "code",
   "execution_count": 8,
   "metadata": {
    "collapsed": false
   },
   "outputs": [
    {
     "name": "stdout",
     "output_type": "stream",
     "text": [
      "0. 2\n",
      "1. 3\n",
      "2. 4\n",
      "3. 5\n",
      "4. 6\n",
      "5. 7\n",
      "6. 8\n",
      "7. 9\n",
      "8. 10\n",
      "9. 11\n",
      "10. 12\n",
      "11. 13\n",
      "12. 14\n",
      "13. 15\n",
      "14. 16\n",
      "15. 17\n",
      "16. 18\n",
      "17. 19\n",
      "18. 20\n"
     ]
    }
   ],
   "source": [
    "for x, y in enumerate(ran):\n",
    "    print(\"{}. {}\".format(x, y))"
   ]
  },
  {
   "cell_type": "markdown",
   "metadata": {},
   "source": [
    "__(h)__ Korištenjem sažetog zapisa liste (engl. _list comprehension_) transformirajte listu `ran` tako da sve elemente zamijenite njihovim prirodnim logaritmom."
   ]
  },
  {
   "cell_type": "code",
   "execution_count": 9,
   "metadata": {
    "collapsed": false
   },
   "outputs": [
    {
     "name": "stdout",
     "output_type": "stream",
     "text": [
      "[0.69314718055994529, 1.0986122886681098, 1.3862943611198906, 1.6094379124341003, 1.791759469228055, 1.9459101490553132, 2.0794415416798357, 2.1972245773362196, 2.3025850929940459, 2.3978952727983707, 2.4849066497880004, 2.5649493574615367, 2.6390573296152584, 2.7080502011022101, 2.7725887222397811, 2.8332133440562162, 2.8903717578961645, 2.9444389791664403, 2.9957322735539909]\n"
     ]
    }
   ],
   "source": [
    "#ran = [np.log(x) for x in ran]\n",
    "print(list(map(lambda x: np.log(x),ran)))\n"
   ]
  },
  {
   "cell_type": "markdown",
   "metadata": {},
   "source": [
    "## 2."
   ]
  },
  {
   "cell_type": "markdown",
   "metadata": {},
   "source": [
    "__(a)__ Napišite funkciju `make_3sg_form(word)` koja vraća glagol u trećem licu jednine za dani glagol u infinitivu, npr. _try_ -> _tries_. Slijedite sljedeća pravila:\n",
    "* Ako glagol završava na _y_, odbaci _y_ i dodaj _ies_.\n",
    "* Ako glagol završava na _o_, _ch_, _s_, _sh_, _x_ ili _z_, dodaj _es_.\n",
    "* Inače samo dodaj _s_.\n",
    "\n",
    "NB: Znakovni niz je zapravo polje znakova tako da vrijede \"trikovi\" za indeksiranje polja.\n",
    "\n",
    "__(b)__ Isprobajte implementiranu funkciju za _fix_, _brush_, _cry_, _play_ i _echo_. Primjetite da je ovo složen problem i da tri jednostavna pravila neće uspjeti pokriti sve slučajeve."
   ]
  },
  {
   "cell_type": "code",
   "execution_count": 10,
   "metadata": {
    "collapsed": false
   },
   "outputs": [
    {
     "name": "stdout",
     "output_type": "stream",
     "text": [
      "fixes\n",
      "brushes\n",
      "cries\n",
      "plaies\n",
      "echoes\n",
      "paies\n",
      "dogs\n",
      "jumped\n"
     ]
    }
   ],
   "source": [
    "def make_3sg_form(word):\n",
    "    if len(word)==2:\n",
    "        return word\n",
    "    elif word[-1] in ['o','s','x','z']:\n",
    "        return word+\"es\"\n",
    "    elif word[-1] == 'p':\n",
    "        return word+'ed'\n",
    "    elif word[-1]=='y':\n",
    "        return word[:-1]+\"ies\"\n",
    "    elif word[-2:] in [\"sh\",\"ch\"]:\n",
    "        return word+\"es\"\n",
    "    else :\n",
    "        return word+\"s\"\n",
    "\n",
    "for x in [\"fix\", \"brush\", \"cry\", \"play\" ,\"echo\",\"pay\",\"dog\",\"jump\"]:\n",
    "    print(make_3sg_form(x))\n"
   ]
  },
  {
   "cell_type": "markdown",
   "metadata": {},
   "source": [
    "## 3."
   ]
  },
  {
   "cell_type": "markdown",
   "metadata": {},
   "source": [
    "Napišite funkciju `filterShortWords (word_list, min_length)` koja prima listu riječi i minimalnu dopuštenu duljinu riječi te vraća __novu__ listu riječi koja sadrži samo one riječi čija je duljina veća od minimalne dopuštene. Obavezno provjerite da je dana duljina riječi pozitivan broj veći od 1. Ako nije, bacite iznimku. U slučaju da korisnik nije zadao duljinu, funkcija radi jednako kao da je korisnik zadao duljinu od dva znaka (koristite podrazumijevane argumente, engl. _default arguments_). \n",
    "\n",
    "Zadatak riješite na dva načina: \n",
    "\n",
    "* __(a)__ korištenjem `for` petlji,\n",
    "* __(b)__ korištenjem sažetog zapisa liste,\n",
    "* __(c)__ korištenjem metode `filter` u kombinaciji s lambda-izrazom. \n",
    "\n",
    "__(d)__ Pokažite na primjeru da su izlazi implementiranih funkcija jednaki.\n",
    "\n",
    "NB: Podrazumijevani elementi (ili grupa istih) uvijek dolaze na kraju liste argumenata u definiciji funkcije."
   ]
  },
  {
   "cell_type": "code",
   "execution_count": 11,
   "metadata": {
    "collapsed": false
   },
   "outputs": [
    {
     "name": "stdout",
     "output_type": "stream",
     "text": [
      "['Stipe', 'Ivana']\n"
     ]
    }
   ],
   "source": [
    "def filterShortWordsa(word_list, min_length=2):\n",
    "    if min_length<=1:\n",
    "        raise ValueError('Minimalna duljina mora biti veca od 1')\n",
    "    new_word_list=[]\n",
    "    for x in word_list:\n",
    "        if len(x)>=min_length:\n",
    "            new_word_list.append(x)\n",
    "    return new_word_list\n",
    "\n",
    "def filterShortWordsb(word_list, min_length=2):\n",
    "    if min_length<=1:\n",
    "        raise ValueError('Minimalna duljina mora biti veca od 1')\n",
    "    return [x for x in word_list if len(x)>=min_length]\n",
    "\n",
    "def filterShortWordsc(word_list, min_length=2):\n",
    "    if min_length<=1:\n",
    "        raise ValueError('Minimalna duljina mora biti veca od 1')\n",
    "    return list(filter(lambda x: len(x)>=min_length, word_list))\n",
    "\n",
    "print(filterShortWordsa([\"Ante\",'Ivan',\"Mate\",\"Stipe\",\"Ana\",'Ivana'], 5))"
   ]
  },
  {
   "cell_type": "markdown",
   "metadata": {},
   "source": [
    "## 4."
   ]
  },
  {
   "cell_type": "markdown",
   "metadata": {},
   "source": [
    "Dana vam je mapa koja za ključeve sadrži nazive programskih jezika, a za vrijednosti liste programskih paradigmi koje određeni jezik pokriva."
   ]
  },
  {
   "cell_type": "code",
   "execution_count": 12,
   "metadata": {
    "collapsed": false
   },
   "outputs": [],
   "source": [
    "langs_paradigms = {\n",
    "                  \"Java\" : [\"object-oriented\", \"imperative\"],\n",
    "                  \"Haskell\" : [\"functional\"],\n",
    "                  \"Lisp\" : [\"functional\", \"procedural\"]\n",
    "                  }"
   ]
  },
  {
   "cell_type": "markdown",
   "metadata": {},
   "source": [
    "Napišite razred `ProgLanguageRepository` uzimajući u obzir sljedeće stvari:\n",
    "* Konstruktor ovog razreda prima početnu mapu koja sadrži programske jezike i njihove paradigme.\n",
    "* Dana mapa sprema se kao član klase imena `data`.\n",
    "* Razred sadrži metodu `count` koja vraća broj programskih jezika dostupnih u repozitoriju.\n",
    "* Razred sadrži metodu `get_langs_paradigms (lang)` koja za dano ime programskog jezika vraća listu njegovih paradigmi ili vraća `None` ako taj jezik ne postoji u repozitoriju.\n",
    "* Razred sadrži metodu `add_lang_paradigm (lang, paradigm)` koja danom programskom jeziku dodaje paradigmu (ako je već nema).\n",
    "* Razred sadrži metodu `remove_lang_paradigm (lang, paradigm)` koja danom programskom jeziku miče danu paradigmu (ako je ima).\n",
    "* Razred ima nadjačanu metodu za znakovnu reprezentaciju koja samo ispisuje znakovnu reprezentaciju člana `data`.\n",
    "\n",
    "Pokažite na par primjera da vaša implementacija radi."
   ]
  },
  {
   "cell_type": "code",
   "execution_count": 13,
   "metadata": {
    "collapsed": false
   },
   "outputs": [
    {
     "name": "stdout",
     "output_type": "stream",
     "text": [
      "{'Lisp': ['functional', 'procedural'], 'Haskell': ['functional'], 'Java': ['object-oriented', 'imperative']}\n",
      "3\n",
      "['object-oriented', 'imperative']\n",
      "{'Lisp': ['functional', 'procedural'], 'Haskell': ['functional'], 'C': ['Imperative'], 'Java': ['object-oriented', 'imperative', 'Test']}\n",
      "{'Lisp': ['functional', 'procedural'], 'Haskell': ['functional'], 'C': ['Imperative'], 'Java': ['object-oriented', 'Test']}\n"
     ]
    }
   ],
   "source": [
    "class ProgLanguageRepository:\n",
    "    \n",
    "    def __init__(self, data):\n",
    "        self.data=data\n",
    "        \n",
    "    def count(self):\n",
    "        return len(self.data)\n",
    "    \n",
    "    def get_langs_paradigms(self,lang):\n",
    "        return self.data.get(lang,None)\n",
    "    \n",
    "    def add_lang_paradigm(self,lang, paradigm):\n",
    "        if self.get_langs_paradigms(lang)==None:\n",
    "            self.data[lang]=paradigm\n",
    "        elif paradigm not in self.data[lang]:\n",
    "            self.data[lang].append(paradigm)\n",
    "        \n",
    "    def remove_lang_paradigm(self,lang, paradigm):\n",
    "        if lang in self.data:\n",
    "            if paradigm in self.data[lang]:\n",
    "                self.data[lang].remove(paradigm)\n",
    "        \n",
    "    def __str__(self):\n",
    "        return str(self.data)\n",
    "    \n",
    "x = ProgLanguageRepository(langs_paradigms)\n",
    "print(x)\n",
    "print(x.count())\n",
    "print(x.get_langs_paradigms(\"Java\"))\n",
    "x.add_lang_paradigm(\"C\", [\"Imperative\"])\n",
    "x.add_lang_paradigm(\"Java\", \"Test\")\n",
    "x.add_lang_paradigm(\"Java\", \"Test\")\n",
    "print(x)\n",
    "x.remove_lang_paradigm(\"Java\",\"imperative\")\n",
    "print(x)"
   ]
  },
  {
   "cell_type": "markdown",
   "metadata": {},
   "source": [
    "## 5."
   ]
  },
  {
   "cell_type": "markdown",
   "metadata": {},
   "source": [
    "__(a)__ Napišite kôd koji stvara sljedeća tri vektor-stupca, jedan vektor-redak i kvadratnu matricu ranga 2 (koristite `numpy` za cijeli zadatak):\n",
    "\n",
    "$ x_{1} = \\begin{pmatrix}\n",
    "1\\\\\n",
    "2\\\\\n",
    "\\end{pmatrix}$,\n",
    "$ x_{2} = \\begin{pmatrix}\n",
    "3\\\\\n",
    "5\\\\\n",
    "\\end{pmatrix}$,\n",
    "$ x_{3} = \\begin{pmatrix}\n",
    "-3\\\\\n",
    "4\\\\\n",
    "\\end{pmatrix}$,\n",
    "$ x_{4} = \\begin{pmatrix}\n",
    "4\\\\\n",
    "0\\\\\n",
    "\\end{pmatrix}^T$,\n",
    "$ A = \\begin{pmatrix}\n",
    "5 & 3 \\\\\n",
    "10 & 6 \\\\\n",
    "\\end{pmatrix}\n",
    "$\n",
    "\n",
    "__(b)__ Zatim napišite naredbe koje stvaraju dvije nove matrice: matricu $C$ dimenzija $2\\times3$ koja se dobije tako da se vektor-stupci poredaju horizontalno jedan kraj drugog te matricu $D$ dimenzija $3\\times2$ koja se dobije tako da se matrica $A$ postavi ispod danog vektor-retka."
   ]
  },
  {
   "cell_type": "code",
   "execution_count": 14,
   "metadata": {
    "collapsed": false
   },
   "outputs": [
    {
     "name": "stdout",
     "output_type": "stream",
     "text": [
      "C=\n",
      "[[ 1  3 -3]\n",
      " [ 2  5  4]] \n",
      "D=\n",
      "[[ 4  0]\n",
      " [ 5  3]\n",
      " [10  6]]\n"
     ]
    }
   ],
   "source": [
    "x1=np.array([[1],[2]])\n",
    "x2=np.array([[3],[5]])\n",
    "x3=np.array([[-3],[4]])\n",
    "x4=np.array([4,0])\n",
    "A=np.array([[5,3],[10,6]])\n",
    "C=np.column_stack((x1,x2,x3))\n",
    "D=np.vstack((x4,A))\n",
    "print(\"C=\\n{0} \\nD=\\n{1}\".format(C,D))"
   ]
  },
  {
   "cell_type": "markdown",
   "metadata": {},
   "source": [
    "__(c)__ Izračunajte umnožak matrica $C$ i $D$ te ga pohranite u matricu $U$."
   ]
  },
  {
   "cell_type": "code",
   "execution_count": 15,
   "metadata": {
    "collapsed": false
   },
   "outputs": [
    {
     "data": {
      "text/plain": [
       "array([73, 39])"
      ]
     },
     "execution_count": 15,
     "metadata": {},
     "output_type": "execute_result"
    }
   ],
   "source": [
    "U=C.dot(D);U[U>0]"
   ]
  },
  {
   "cell_type": "markdown",
   "metadata": {},
   "source": [
    "__(d)__ Nadalje, napišite kôd koji izračunava inverz matrice $U$ (spremiti u matricu $I$) kojeg zatim transponira (i sprema u matricu $R$)."
   ]
  },
  {
   "cell_type": "code",
   "execution_count": 16,
   "metadata": {
    "collapsed": false
   },
   "outputs": [
    {
     "name": "stdout",
     "output_type": "stream",
     "text": [
      "[[ 0.17105263  0.03947368]\n",
      " [-0.32017544 -0.04824561]] \n",
      "[[ 0.17105263 -0.32017544]\n",
      " [ 0.03947368 -0.04824561]]\n"
     ]
    }
   ],
   "source": [
    "I=np.linalg.inv(U)\n",
    "R=I.T\n",
    "print(\"{} \\n{}\".format(I,R))"
   ]
  },
  {
   "cell_type": "markdown",
   "metadata": {},
   "source": [
    "__(e)__ Izračunajte sumu svih elemenata u matrici $D$ (spremite u varijablu `D_total`), ali i sume po zasebnim dimenzijama (`D_x`, `D_y`)."
   ]
  },
  {
   "cell_type": "code",
   "execution_count": 17,
   "metadata": {
    "collapsed": false
   },
   "outputs": [
    {
     "name": "stdout",
     "output_type": "stream",
     "text": [
      "D_total=28\n",
      "D_x=[19  9]\n",
      "D_y=[ 4  8 16]\n"
     ]
    }
   ],
   "source": [
    "D_total=np.sum(D)\n",
    "(D_x,D_y)= np.sum(D,axis=0),np.sum(D,axis=1)\n",
    "print(\"D_total={}\\nD_x={}\\nD_y={}\".format(D_total,D_x,D_y))"
   ]
  },
  {
   "cell_type": "markdown",
   "metadata": {},
   "source": [
    "__(f)__ Ispišite determinantu matrice $R$."
   ]
  },
  {
   "cell_type": "code",
   "execution_count": 18,
   "metadata": {
    "collapsed": false
   },
   "outputs": [
    {
     "data": {
      "text/plain": [
       "0.0043859649122807006"
      ]
     },
     "execution_count": 18,
     "metadata": {},
     "output_type": "execute_result"
    }
   ],
   "source": [
    "np.linalg.det(R)"
   ]
  },
  {
   "cell_type": "markdown",
   "metadata": {},
   "source": [
    "__(g)__ Isprobajte vrijedi li $R\\cdot R^{-1} = I$."
   ]
  },
  {
   "cell_type": "code",
   "execution_count": 19,
   "metadata": {
    "collapsed": false
   },
   "outputs": [
    {
     "data": {
      "text/plain": [
       "array([[  1.00000000e+00,   0.00000000e+00],\n",
       "       [  5.55111512e-17,   1.00000000e+00]])"
      ]
     },
     "execution_count": 19,
     "metadata": {},
     "output_type": "execute_result"
    }
   ],
   "source": [
    "np.dot(R,np.linalg.inv(R))"
   ]
  },
  {
   "cell_type": "markdown",
   "metadata": {},
   "source": [
    "__(h)__ Stvorite vektor-stupac $n$ dimenzija $4\\times 1$ čiji su svi elementi 0 (bez ručnog pisanja svih elemenata)."
   ]
  },
  {
   "cell_type": "code",
   "execution_count": 20,
   "metadata": {
    "collapsed": false
   },
   "outputs": [
    {
     "data": {
      "text/plain": [
       "array([[ 1.],\n",
       "       [ 1.],\n",
       "       [ 1.],\n",
       "       [ 1.]])"
      ]
     },
     "execution_count": 20,
     "metadata": {},
     "output_type": "execute_result"
    }
   ],
   "source": [
    "n=np.ones((4,1));n"
   ]
  },
  {
   "cell_type": "markdown",
   "metadata": {},
   "source": [
    "## 6."
   ]
  },
  {
   "cell_type": "markdown",
   "metadata": {},
   "source": [
    "__(a)__ Napišite kôd koji iscrtava sljedeće funkcije:\n",
    "\n",
    "$f_{1}(x) = \\sqrt{(1-(|x|-1)^2)}$ i $f_{2}(x) = -3 \\cdot \\sqrt{(1-\\sqrt{\\frac{|x|}{2}})}$\n",
    "\n",
    "pritom definirajući domenu funkcija kao $x \\in [-2, 2]$ (u 1000 točaka). Graf funkcije $f_{1}(x)$ prikažite plavom bojom, a graf funkcije $f_{2}(x)$ crvenom. Iscrtajte oba grafa na istoj slici tako da su vidljive točke iz intervala $x \\in [-3, 3]$ i $y \\in [-3, 1.5]$.\n",
    "\n",
    "__(b)__ Ostavite oznake osi jednostavno kao $x$ i $y$. Iscrtajte legendu u donjem desnom kutu tako da je naziv funkcije $f_{1}(x)$ _bolja polovica_, a naziv funkcije $f_{2}(x)$ _dobra polovica_."
   ]
  },
  {
   "cell_type": "code",
   "execution_count": 21,
   "metadata": {
    "collapsed": false
   },
   "outputs": [
    {
     "data": {
      "image/png": "[encoded data removed]",
      "text/plain": [
       "<matplotlib.figure.Figure at 0x7fa1c9071438>"
      ]
     },
     "metadata": {},
     "output_type": "display_data"
    }
   ],
   "source": [
    "def f1(x): return np.sqrt(1-(abs(x)-1)**2)\n",
    "def f2(x): return -3*np.sqrt(1-np.sqrt(abs(x)/2))\n",
    "x = np.linspace(-2,2,1000)\n",
    "plt.suptitle(\"Test\")\n",
    "plt.plot(x,f1(x),'b',label='bolja polovica')\n",
    "plt.plot(x,f2(x),'r',label='dobra polovica')\n",
    "plt.axis([-3,3,-3,1.5])\n",
    "plt.ylabel('y')\n",
    "plt.xlabel('x')\n",
    "plt.legend(bbox_to_anchor=(1, 0), loc=4, borderaxespad=0.)\n",
    "plt.show()"
   ]
  },
  {
   "cell_type": "markdown",
   "metadata": {},
   "source": [
    "## 7."
   ]
  },
  {
   "cell_type": "markdown",
   "metadata": {},
   "source": [
    "__(a)__ Učitajte skup podataka _Iris_. Ovaj skup podataka sadrži 150 instanci, 50 za svaku od tri klase (_Iris setosa_, _Iris virginica_ i _Iris versicolor_). Svaka instanca, to jest vektor, sadrži četiri značajke: širinu i dužinu latice te širinu i dužinu čašićnog listića. U polju _iris.data_ nalaze se instance, dok se u _iris.target_ nalaze oznake instanci (njihove stvarne klase).  Ispišite dimenzije polja instanci te polja njihovih stvarnih oznaka."
   ]
  },
  {
   "cell_type": "code",
   "execution_count": 22,
   "metadata": {
    "collapsed": false
   },
   "outputs": [
    {
     "name": "stdout",
     "output_type": "stream",
     "text": [
      "(150, 4)\n",
      "(150,)\n"
     ]
    }
   ],
   "source": [
    "from sklearn import datasets\n",
    "iris = datasets.load_iris()\n",
    "print(iris.data.shape)\n",
    "print(iris.target.shape)"
   ]
  },
  {
   "cell_type": "markdown",
   "metadata": {},
   "source": [
    "__(b)__ Budući da ne možemo vizualizirati 4-dimenzijske podatke, iz svake instance izdvojite samo prve dvije značajke. Koristite indeksiranje poljem brojeva. Ispišite dimenzije dobivenog polja instanci."
   ]
  },
  {
   "cell_type": "code",
   "execution_count": 23,
   "metadata": {
    "collapsed": false
   },
   "outputs": [
    {
     "data": {
      "text/plain": [
       "(150, 2)"
      ]
     },
     "execution_count": 23,
     "metadata": {},
     "output_type": "execute_result"
    }
   ],
   "source": [
    "X=iris.data[:,:2]\n",
    "X.shape"
   ]
  },
  {
   "cell_type": "markdown",
   "metadata": {},
   "source": [
    "__(c)__ Logičkim indeksiranjem razdvojite primjere za svaku od tri klase. Ispišite dimenzije dobivenih polja."
   ]
  },
  {
   "cell_type": "code",
   "execution_count": 24,
   "metadata": {
    "collapsed": false
   },
   "outputs": [
    {
     "name": "stdout",
     "output_type": "stream",
     "text": [
      "(50, 2) (50, 2) (50, 2)\n"
     ]
    }
   ],
   "source": [
    "irissetosa = iris.target==0\n",
    "irisvirginica = iris.target==1\n",
    "irisversicolor = iris.target==2\n",
    "print(str(X[irissetosa].shape)+\" \"+str(X[irisvirginica].shape)+\" \"+str(X[irisversicolor].shape))"
   ]
  },
  {
   "cell_type": "markdown",
   "metadata": {},
   "source": [
    "__(d)__ Napišite kôd koji iscrtava četiri zasebna grafa (četiri podgrafa u 2x2 mreži), pri čemu tri grafa prikazuju instance određene klase (točke u 2-dimenzijskom prostoru), a četvrti ih prikazuje sve (u različitim bojama). Osigurajte da svi grafovi prikazuju isto područje grafa (npr. $x \\in [4,9]$ i $y \\in [1.5, 5]$).\n",
    "\n",
    "Proučite kako se postavlja veličina glavnog okvira (u koji se smještaju podgrafovi) te ju postavite na 10x8."
   ]
  },
  {
   "cell_type": "code",
   "execution_count": 25,
   "metadata": {
    "collapsed": false
   },
   "outputs": [
    {
     "data": {
      "image/png": "[encoded data removed]",
      "text/plain": [
       "<matplotlib.figure.Figure at 0x7fa1c7c2d908>"
      ]
     },
     "metadata": {},
     "output_type": "display_data"
    }
   ],
   "source": [
    "f = plt.figure(4,figsize=(10, 8))\n",
    "val = [4,9,1.5,5]\n",
    "f.add_subplot(221)\n",
    "plt.plot(X[irissetosa][:,0],X[irissetosa][:,1],'bo')\n",
    "plt.axis(val)\n",
    "f.add_subplot(222)\n",
    "plt.plot(X[irisvirginica][:,0],X[irisvirginica][:,1],'ro')\n",
    "plt.axis(val)\n",
    "f.add_subplot(223)\n",
    "plt.plot(X[irisversicolor][:,0],X[irisversicolor][:,1],'go')\n",
    "plt.axis(val)\n",
    "f.add_subplot(224)\n",
    "plt.plot(X[irissetosa][:,0],X[irissetosa][:,1],'bo')\n",
    "plt.plot(X[irisvirginica][:,0],X[irisvirginica][:,1],'ro')\n",
    "plt.plot(X[irisversicolor][:,0],X[irisversicolor][:,1],'go')\n",
    "plt.axis(val)\n",
    "plt.show()"
   ]
  },
  {
   "cell_type": "markdown",
   "metadata": {},
   "source": [
    "## 8."
   ]
  },
  {
   "cell_type": "markdown",
   "metadata": {},
   "source": [
    "__(a)__ Napišite kôd koji u petlji iscrtava grafove normalnih distribucija definiranih s parametarima $\\mu$ i $\\sigma$:\n",
    "\n",
    "* $\\mu = 3$\n",
    "* $\\sigma \\in [1, 5]$ (korak 1)\n",
    "\n",
    "Dakle, generirat ćete pet grafova normalnih distribucija: $\\mathcal{N}_{1}(\\mu = 3, \\sigma = 1)$, $\\mathcal{N}_{2}(\\mu = 3, \\sigma = 2)$, ... , $\\mathcal{N}_{1}(\\mu = 3, \\sigma = 5)$.\n",
    "\n",
    "Grafove iscrtajte na istoj slici tako da su vidljive točke iz intervala $x \\in [-15, 15]$ i $y \\in [0, 0.5]$. Za svaki graf upotrijebite drugu boju. Za domenu koristite $[-50, 50]$ (uzorkujte 1000 točaka). Također napravite legendu u gornjem lijevom kutu koji će sve grafove nazvati onako kako su i u zadatku \n",
    "definirani ($\\LaTeX$ kôd radi unutar znakovnih nizova koji definiraju oznaku unutar legende), npr. $\\mathcal{N}_{1}(\\mu = 3, \\sigma = 5)$.\n"
   ]
  },
  {
   "cell_type": "code",
   "execution_count": 26,
   "metadata": {
    "collapsed": false
   },
   "outputs": [
    {
     "data": {
      "image/png": "[encoded data removed]",
      "text/plain": [
       "<matplotlib.figure.Figure at 0x7fa1c779bc50>"
      ]
     },
     "metadata": {},
     "output_type": "display_data"
    }
   ],
   "source": [
    "x = np.linspace(-50,50,1000)\n",
    "for sigma in range(1,6):\n",
    "    plt.plot(x, stats.norm.pdf(x,loc=3,scale=sigma),label=r\"$\\mathcal{N}_{\"+str(sigma)+r\"}(\\mu = 3, \\sigma = {\"+str(sigma)+r\"})$\")\n",
    "plt.axis(([-15,15,0,0.5]))   \n",
    "plt.legend(bbox_to_anchor=(0, 1), loc=2, borderaxespad=0.)\n",
    "plt.show()"
   ]
  },
  {
   "cell_type": "markdown",
   "metadata": {},
   "source": [
    "__(b)__ Sada pretpostavite da imate zadanu distribuciju ocjena na nekom kolegiju koja se pokorava normalnoj distribuciji $\\mathcal{N}_{G}(\\mu = 62, \\sigma = 13)$. Najprije je iscrtajte (nebitno kako), ali osigurajte da je domena $[0, 100]$ (raspon mogućih bodova na kolegiju) također uzorkovana u 1000 točaka."
   ]
  },
  {
   "cell_type": "code",
   "execution_count": 27,
   "metadata": {
    "collapsed": false
   },
   "outputs": [
    {
     "data": {
      "image/png": "[encoded data removed]",
      "text/plain": [
       "<matplotlib.figure.Figure at 0x7fa1c72fe5c0>"
      ]
     },
     "metadata": {},
     "output_type": "display_data"
    }
   ],
   "source": [
    "x = np.linspace(0,100,1000)\n",
    "plt.plot(x,stats.norm.pdf(x,loc=62,scale=13))\n",
    "plt.show()"
   ]
  },
  {
   "cell_type": "markdown",
   "metadata": {},
   "source": [
    "__(c)__ Međutim, vi polažete kolegij naknadno na roku, a profesoru se zaista ne da ispravljati vaš ispit. Kako bi tome doskočio, profesor često koristi tradicionalnu metodu stubišta (https://www.linkedin.com/pulse/20140414044726-2259773-a-guide-to-grading-exams) koju možemo aproksimirati nasumičnim odabirom broja iz distribucije bodova na ispitu. Napišite kôd koji iz distribucije bodova $\\mathcal{N}_{G}$ dohvaća slučajnu vrijednost koja predstavlja vaš broj bodova (zaokružite bodove na cijeli broj)."
   ]
  },
  {
   "cell_type": "code",
   "execution_count": 28,
   "metadata": {
    "collapsed": false
   },
   "outputs": [
    {
     "data": {
      "text/plain": [
       "28.0"
      ]
     },
     "execution_count": 28,
     "metadata": {},
     "output_type": "execute_result"
    }
   ],
   "source": [
    "round(double(stats.norm.rvs(loc=62,scale=13,size=1)))#pitaj ovaj"
   ]
  },
  {
   "cell_type": "markdown",
   "metadata": {},
   "source": [
    "## 10."
   ]
  },
  {
   "cell_type": "markdown",
   "metadata": {},
   "source": [
    "Iscrtajte konture 2-dimenzijske Gausove distribucije $\\mathcal{N} (\\vec{\\mu}, \\Sigma)$ sa sljedećim parametrima:\n",
    "\n",
    "* $\\vec{\\mu} = [1, 1]$\n",
    "* $\\Sigma = \\begin{pmatrix}\n",
    "1 & 1 \\\\\n",
    "0.5 & 3 \\\\\n",
    "\\end{pmatrix}$\n",
    "\n",
    "Za domenu uzmite $x_{1} \\in [-1, 2]$ i $y_{2} \\in [-2, 2]$."
   ]
  },
  {
   "cell_type": "code",
   "execution_count": 29,
   "metadata": {
    "collapsed": false
   },
   "outputs": [
    {
     "data": {
      "image/png": "[encoded data removed]",
      "text/plain": [
       "<matplotlib.figure.Figure at 0x7fa1c75cd9e8>"
      ]
     },
     "metadata": {},
     "output_type": "display_data"
    }
   ],
   "source": [
    "mnormal = stats.multivariate_normal([1, 1], [[1, 1], [0.5, 3]])\n",
    "x = np.linspace(-1,2)\n",
    "y = np.linspace(-2,2)\n",
    "X, Y = np.meshgrid(x, y)\n",
    "XY = np.dstack((X,Y))\n",
    "plt.pcolormesh(X, Y, mnormal.pdf(XY))\n",
    "plt.show()"
   ]
  }
 ],
 "metadata": {
  "kernelspec": {
   "display_name": "Python 3",
   "language": "python",
   "name": "python3"
  },
  "language_info": {
   "codemirror_mode": {
    "name": "ipython",
    "version": 3
   },
   "file_extension": ".py",
   "mimetype": "text/x-python",
   "name": "python",
   "nbconvert_exporter": "python",
   "pygments_lexer": "ipython3",
   "version": "3.4.3"
  }
 },
 "nbformat": 4,
 "nbformat_minor": 0
}
